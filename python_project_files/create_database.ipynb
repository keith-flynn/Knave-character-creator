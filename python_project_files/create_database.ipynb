{
 "cells": [
  {
   "attachments": {},
   "cell_type": "markdown",
   "metadata": {},
   "source": [
    "# Creating the database"
   ]
  },
  {
   "attachments": {},
   "cell_type": "markdown",
   "metadata": {},
   "source": [
    "### Using pandas and sqlite to create our database"
   ]
  },
  {
   "cell_type": "code",
   "execution_count": 1,
   "metadata": {},
   "outputs": [],
   "source": [
    "import pandas as pd\n",
    "import sqlite3"
   ]
  },
  {
   "attachments": {},
   "cell_type": "markdown",
   "metadata": {},
   "source": [
    "First, we import the csv into a dataframe and set the index to be our dice roll."
   ]
  },
  {
   "cell_type": "code",
   "execution_count": 2,
   "metadata": {},
   "outputs": [
    {
     "name": "stdout",
     "output_type": "stream",
     "text": [
      "        PHYSIQUE       FACE         SKIN        HAIR     CLOTHING  \\\n",
      "ROLL                                                                \n",
      "1       Athletic    Bloated  Battle Scar        Bald      Antique   \n",
      "2         Brawny      Blunt    Birthmark     Braided       Bloody   \n",
      "3      Corpulent       Bony    Burn Scar     Bristly   Ceremonial   \n",
      "4       Delicate   Chiseled         Dark     Cropped    Decorated   \n",
      "5          Gaunt   Delicate       Makeup       Curly    Eccentric   \n",
      "6        Hulking  Elongated         Oily  Disheveled      Elegant   \n",
      "7          Lanky  Patrician         Pale  Dreadlocks  Fashionable   \n",
      "8         Ripped    Pinched      Perfect      Filthy       Filthy   \n",
      "9         Rugged    Hawkish      Pierced      Frizzy   Flamboyant   \n",
      "10       Scrawny     Broken   Pockmarked     Greased      Stained   \n",
      "11         Short     Impish      Reeking        Limp      Foreign   \n",
      "12        Sinewy     Narrow     Tattooed        Long       Frayed   \n",
      "13       Slender    Ratlike         Rosy   Luxurious       Frumpy   \n",
      "14        Flabby      Round        Rough      Mohawk       Livery   \n",
      "15    Statuesque     Sunken       Sallow        Oily    Oversized   \n",
      "16         Stout      Sharp    Sunburned    Ponytail      Patched   \n",
      "17          Tiny       Soft       Tanned       Silky     Perfumed   \n",
      "18      Towering     Square    War Paint     Topknot       Rancid   \n",
      "19       Willowy       Wide    Weathered        Wavy         Torn   \n",
      "20          Wiry    Wolfish    Whip Scar       Wispy   Undersized   \n",
      "\n",
      "           VIRTUE        VICE      SPEECH  BACKGROUND  MISFORTUNES   ALIGNMENT  \n",
      "ROLL                                                                            \n",
      "1       Ambitious  Aggressive       Blunt   Alchemist    Abandoned         Law  \n",
      "2        Cautious    Arrogant     Booming      Beggar     Addicted         Law  \n",
      "3      Courageous      Bitter     Breathy     Butcher  Blackmailed         Law  \n",
      "4       Courteous    Cowardly     Cryptic     Burglar    Condemned         Law  \n",
      "5         Curious       Cruel    Drawling   Charlatan       Cursed         Law  \n",
      "6     Disciplined   Deceitful     Droning      Cleric    Defrauded  Neutrality  \n",
      "7         Focused    Flippant     Flowery        Cook      Demoted  Neutrality  \n",
      "8        Generous  Gluttonous      Formal     Cultist  Discredited  Neutrality  \n",
      "9      Gregarious      Greedy    Gravelly     Gambler     Disowned  Neutrality  \n",
      "10         Honest   Irascible      Hoarse   Herbalist       Exiled  Neutrality  \n",
      "11      Honorable        Lazy    Mumbling    Magician       Framed  Neutrality  \n",
      "12         Humble     Nervous     Precise     Mariner      Haunted  Neutrality  \n",
      "13     Idealistic  Prejudiced      Quaint   Mercenary    Kidnapped  Neutrality  \n",
      "14           Just    Reckless    Rambling    Merchant    Mutilated  Neutrality  \n",
      "15          Loyal        Rude  Rapid-fire      Outlaw         Poor  Neutrality  \n",
      "16       Merciful  Suspicious     Dialect   Performer      Pursued       Chaos  \n",
      "17      Righteous        Vain        Slow  Pickpocket     Rejected       Chaos  \n",
      "18         Serene    Vengeful     Squeaky    Smuggler     Replaced       Chaos  \n",
      "19          Stoic    Wasteful  Stuttering     Student       Robbed       Chaos  \n",
      "20       Tolerant       Whiny    Whispery     Tracker    Suspected       Chaos  \n"
     ]
    }
   ],
   "source": [
    "traits_csv = pd.read_csv('assets/knave-traits.csv')\n",
    "traits = traits_csv.set_index('ROLL')\n",
    "print(traits)"
   ]
  },
  {
   "attachments": {},
   "cell_type": "markdown",
   "metadata": {},
   "source": [
    "Now, sqlite converts our dataframe into the Trait table in our new knave.db database file."
   ]
  },
  {
   "cell_type": "code",
   "execution_count": 3,
   "metadata": {},
   "outputs": [],
   "source": [
    "with sqlite3.connect('knave.db') as conn:\n",
    "    traits.to_sql('traits', conn)"
   ]
  },
  {
   "attachments": {},
   "cell_type": "markdown",
   "metadata": {},
   "source": [
    "We add our gear csv to a dataframe as well."
   ]
  },
  {
   "cell_type": "code",
   "execution_count": 4,
   "metadata": {},
   "outputs": [
    {
     "name": "stdout",
     "output_type": "stream",
     "text": [
      "           ARMOR  HELMETSANDSHIELDS DUNGEONEERINGGEAR DUNGEONEERINGGEARTWO  \\\n",
      "ROLL                                                                         \n",
      "1       No armor               None        Rope, 50ft           Rope, 50ft   \n",
      "2       No armor               None           Pulleys              Pulleys   \n",
      "3       No armor               None        Candles, 5           Candles, 5   \n",
      "4       Gambeson               None       Chain, 10ft          Chain, 10ft   \n",
      "5       Gambeson               None         Chalk, 10            Chalk, 10   \n",
      "6       Gambeson               None           Crowbar              Crowbar   \n",
      "7       Gambeson               None         Tinderbox            Tinderbox   \n",
      "8       Gambeson               None        Grap. hook           Grap. hook   \n",
      "9       Gambeson               None            Hammer               Hammer   \n",
      "10      Gambeson               None         Waterskin            Waterskin   \n",
      "11      Gambeson               None           Lantern              Lantern   \n",
      "12      Gambeson               None          Lamp oil             Lamp oil   \n",
      "13      Gambeson               None           Padlock              Padlock   \n",
      "14      Gambeson             Helmet          Manacles             Manacles   \n",
      "15    Brigandine             Helmet            Mirror               Mirror   \n",
      "16    Brigandine             Helmet        Pole, 10ft           Pole, 10ft   \n",
      "17    Brigandine             Shield              Sack                 Sack   \n",
      "18    Brigandine             Shield              Tent                 Tent   \n",
      "19    Brigandine             Shield         Spikes, 5            Spikes, 5   \n",
      "20         Chain  Helmet and Shield        Torches, 5           Torches, 5   \n",
      "\n",
      "     GENERALGEAR1 GENERALGEAR2  \n",
      "ROLL                            \n",
      "1     Air bladder      Incense  \n",
      "2       Bear trap       Sponge  \n",
      "3          Shovel         Lens  \n",
      "4         Bellows      Perfume  \n",
      "5          Grease         Horn  \n",
      "6             Saw       Bottle  \n",
      "7          Bucket         Soap  \n",
      "8        Caltrops     Spyglass  \n",
      "9          Chisel      Tar pot  \n",
      "10          Drill        Twine  \n",
      "11      Fish. rod  Fake jewels  \n",
      "12        Marbles   Blank book  \n",
      "13           Glue    Card deck  \n",
      "14           Pick     Dice set  \n",
      "15      Hourglass    Cook pots  \n",
      "16            Net   Face paint  \n",
      "17          Tongs      Whistle  \n",
      "18      Lockpicks   Instrument  \n",
      "19     Metal file  Quill & Ink  \n",
      "20          Nails   Small bell  \n"
     ]
    }
   ],
   "source": [
    "gear_csv = pd.read_csv('assets/knave-gear.csv')\n",
    "gear = gear_csv.set_index('ROLL')\n",
    "print(gear)"
   ]
  },
  {
   "attachments": {},
   "cell_type": "markdown",
   "metadata": {},
   "source": [
    "And add a second table named Gear to knave.db"
   ]
  },
  {
   "cell_type": "code",
   "execution_count": 5,
   "metadata": {},
   "outputs": [],
   "source": [
    "with sqlite3.connect('knave.db') as conn:\n",
    "    gear.to_sql('gear', conn)"
   ]
  },
  {
   "cell_type": "code",
   "execution_count": null,
   "metadata": {},
   "outputs": [],
   "source": []
  }
 ],
 "metadata": {
  "kernelspec": {
   "display_name": "Python 3",
   "language": "python",
   "name": "python3"
  },
  "language_info": {
   "codemirror_mode": {
    "name": "ipython",
    "version": 3
   },
   "file_extension": ".py",
   "mimetype": "text/x-python",
   "name": "python",
   "nbconvert_exporter": "python",
   "pygments_lexer": "ipython3",
   "version": "3.10.8"
  },
  "orig_nbformat": 4,
  "vscode": {
   "interpreter": {
    "hash": "11a58eeaf81839fd1e0b8e69be3381874fa5a8cb3196798699c22eed9b7452a6"
   }
  }
 },
 "nbformat": 4,
 "nbformat_minor": 2
}
